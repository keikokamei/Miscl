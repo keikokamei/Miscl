{
 "cells": [
  {
   "cell_type": "markdown",
   "metadata": {},
   "source": [
    "<h1><center> ~ Coffee Break ~ </center></h1>\n",
    "\n",
    "![](images/IMG_5251_cover.jpg)\n",
    "\n",
    "\n",
    "### General Set Up\n",
    "\n",
    "---"
   ]
  },
  {
   "cell_type": "code",
   "execution_count": 32,
   "metadata": {},
   "outputs": [
    {
     "name": "stderr",
     "output_type": "stream",
     "text": [
      "WARNING: You are using pip version 19.1.1, however version 21.1.1 is available.\n",
      "You should consider upgrading via the 'python -m pip install --upgrade pip' command.\n"
     ]
    }
   ],
   "source": [
    "# dependencies\n",
    "!pip -q install -r requirements.txt\n",
    "\n",
    "import pandas as pd\n",
    "import numpy as np\n",
    "import ipywidgets as widgets\n",
    "from IPython.display import display, HTML"
   ]
  },
  {
   "cell_type": "code",
   "execution_count": 33,
   "metadata": {},
   "outputs": [],
   "source": [
    "ps_orig = pd.read_csv(\"./data/participants.csv\")\n",
    "qs = pd.read_csv(\"./data/questions.csv\")\n",
    "\n",
    "coffeeBreakers = np.array(['Adam',\n",
    "                          'Can',\n",
    "                          'Daniel',\n",
    "                          'Erik',\n",
    "                          'Ethan',\n",
    "                          'Indrani',\n",
    "                           'Kyle',\n",
    "                           'Kunthea',\n",
    "                           'Radha',\n",
    "                         ])"
   ]
  },
  {
   "cell_type": "code",
   "execution_count": 34,
   "metadata": {
    "scrolled": true
   },
   "outputs": [
    {
     "name": "stdout",
     "output_type": "stream",
     "text": [
      "Random room assignments: \n"
     ]
    },
    {
     "data": {
      "text/html": [
       "<div>\n",
       "<style scoped>\n",
       "    .dataframe tbody tr th:only-of-type {\n",
       "        vertical-align: middle;\n",
       "    }\n",
       "\n",
       "    .dataframe tbody tr th {\n",
       "        vertical-align: top;\n",
       "    }\n",
       "\n",
       "    .dataframe thead th {\n",
       "        text-align: right;\n",
       "    }\n",
       "</style>\n",
       "<table border=\"1\" class=\"dataframe\">\n",
       "  <thead>\n",
       "    <tr style=\"text-align: right;\">\n",
       "      <th></th>\n",
       "      <th>Big Sur</th>\n",
       "    </tr>\n",
       "  </thead>\n",
       "  <tbody>\n",
       "    <tr>\n",
       "      <th>0</th>\n",
       "      <td>Adam</td>\n",
       "    </tr>\n",
       "    <tr>\n",
       "      <th>5</th>\n",
       "      <td>Daniel</td>\n",
       "    </tr>\n",
       "    <tr>\n",
       "      <th>17</th>\n",
       "      <td>Kyle</td>\n",
       "    </tr>\n",
       "    <tr>\n",
       "      <th>8</th>\n",
       "      <td>Ethan</td>\n",
       "    </tr>\n",
       "    <tr>\n",
       "      <th>7</th>\n",
       "      <td>Erik</td>\n",
       "    </tr>\n",
       "  </tbody>\n",
       "</table>\n",
       "</div>"
      ],
      "text/plain": [
       "   Big Sur\n",
       "0     Adam\n",
       "5   Daniel\n",
       "17    Kyle\n",
       "8    Ethan\n",
       "7     Erik"
      ]
     },
     "metadata": {},
     "output_type": "display_data"
    },
    {
     "data": {
      "text/html": [
       "<div>\n",
       "<style scoped>\n",
       "    .dataframe tbody tr th:only-of-type {\n",
       "        vertical-align: middle;\n",
       "    }\n",
       "\n",
       "    .dataframe tbody tr th {\n",
       "        vertical-align: top;\n",
       "    }\n",
       "\n",
       "    .dataframe thead th {\n",
       "        text-align: right;\n",
       "    }\n",
       "</style>\n",
       "<table border=\"1\" class=\"dataframe\">\n",
       "  <thead>\n",
       "    <tr style=\"text-align: right;\">\n",
       "      <th></th>\n",
       "      <th>Grand Canyon</th>\n",
       "    </tr>\n",
       "  </thead>\n",
       "  <tbody>\n",
       "    <tr>\n",
       "      <th>10</th>\n",
       "      <td>Indrani</td>\n",
       "    </tr>\n",
       "    <tr>\n",
       "      <th>4</th>\n",
       "      <td>Can</td>\n",
       "    </tr>\n",
       "    <tr>\n",
       "      <th>16</th>\n",
       "      <td>Kunthea</td>\n",
       "    </tr>\n",
       "    <tr>\n",
       "      <th>21</th>\n",
       "      <td>Radha</td>\n",
       "    </tr>\n",
       "  </tbody>\n",
       "</table>\n",
       "</div>"
      ],
      "text/plain": [
       "   Grand Canyon\n",
       "10      Indrani\n",
       "4           Can\n",
       "16      Kunthea\n",
       "21        Radha"
      ]
     },
     "metadata": {},
     "output_type": "display_data"
    }
   ],
   "source": [
    "ps_today = ps_orig[np.array([True if mem in coffeeBreakers else False for mem in ps_orig.players])]\n",
    "n = len(ps_today)\n",
    "\n",
    "ps_today = ps_today.sample(frac=1)\n",
    "grp1 = ps_today.iloc[:int(np.ceil(n/2))]\n",
    "grp1 = grp1.rename(columns={\"players\": \"Big Sur\"})\n",
    "grp2 = ps_today.iloc[int(np.ceil(n/2)):]\n",
    "grp2 = grp2.rename(columns={\"players\": \"Grand Canyon\"})\n",
    "\n",
    "print(\"Random room assignments: \")\n",
    "display(grp1)\n",
    "display(grp2)\n"
   ]
  },
  {
   "cell_type": "markdown",
   "metadata": {},
   "source": [
    "### Set Up for Facilitator\n",
    "\n",
    "---"
   ]
  },
  {
   "cell_type": "code",
   "execution_count": 35,
   "metadata": {},
   "outputs": [],
   "source": [
    "# For Room Facilitator:\n",
    "\n",
    "membersInRoom = np.array(['Keiko',\n",
    "                          'Brendan',\n",
    "                          'Erik',\n",
    "                          'Rena',\n",
    "                          'Kunthea',\n",
    "                          'Kyle',\n",
    "                          'Indrani',\n",
    "                          'Ethan',\n",
    "                          'Paul'\n",
    "                         ])"
   ]
  },
  {
   "cell_type": "code",
   "execution_count": 36,
   "metadata": {
    "scrolled": false
   },
   "outputs": [
    {
     "data": {
      "text/html": [
       "<div>\n",
       "<style scoped>\n",
       "    .dataframe tbody tr th:only-of-type {\n",
       "        vertical-align: middle;\n",
       "    }\n",
       "\n",
       "    .dataframe tbody tr th {\n",
       "        vertical-align: top;\n",
       "    }\n",
       "\n",
       "    .dataframe thead th {\n",
       "        text-align: right;\n",
       "    }\n",
       "</style>\n",
       "<table border=\"1\" class=\"dataframe\">\n",
       "  <thead>\n",
       "    <tr style=\"text-align: right;\">\n",
       "      <th></th>\n",
       "      <th>players</th>\n",
       "    </tr>\n",
       "  </thead>\n",
       "  <tbody>\n",
       "    <tr>\n",
       "      <th>0</th>\n",
       "      <td>Brendan</td>\n",
       "    </tr>\n",
       "    <tr>\n",
       "      <th>1</th>\n",
       "      <td>Erik</td>\n",
       "    </tr>\n",
       "    <tr>\n",
       "      <th>2</th>\n",
       "      <td>Ethan</td>\n",
       "    </tr>\n",
       "    <tr>\n",
       "      <th>3</th>\n",
       "      <td>Indrani</td>\n",
       "    </tr>\n",
       "    <tr>\n",
       "      <th>4</th>\n",
       "      <td>Keiko</td>\n",
       "    </tr>\n",
       "    <tr>\n",
       "      <th>5</th>\n",
       "      <td>Kunthea</td>\n",
       "    </tr>\n",
       "    <tr>\n",
       "      <th>6</th>\n",
       "      <td>Kyle</td>\n",
       "    </tr>\n",
       "    <tr>\n",
       "      <th>7</th>\n",
       "      <td>Paul</td>\n",
       "    </tr>\n",
       "    <tr>\n",
       "      <th>8</th>\n",
       "      <td>Rena</td>\n",
       "    </tr>\n",
       "  </tbody>\n",
       "</table>\n",
       "</div>"
      ],
      "text/plain": [
       "   players\n",
       "0  Brendan\n",
       "1     Erik\n",
       "2    Ethan\n",
       "3  Indrani\n",
       "4    Keiko\n",
       "5  Kunthea\n",
       "6     Kyle\n",
       "7     Paul\n",
       "8     Rena"
      ]
     },
     "execution_count": 36,
     "metadata": {},
     "output_type": "execute_result"
    }
   ],
   "source": [
    "ps = ps_orig[np.array([True if mem in membersInRoom else False for mem in ps_orig.players])]\n",
    "ps.reset_index().loc[:,['players']].head(len(membersInRoom))"
   ]
  },
  {
   "cell_type": "code",
   "execution_count": 37,
   "metadata": {
    "scrolled": true
   },
   "outputs": [
    {
     "data": {
      "text/html": [
       "<script>\n",
       "code_show=true; \n",
       "function code_toggle() {\n",
       " if (code_show){\n",
       " $('div.input').hide();\n",
       " } else {\n",
       " $('div.input').show();\n",
       " }\n",
       " code_show = !code_show\n",
       "} \n",
       "$( document ).ready(code_toggle);\n",
       "</script>\n",
       "<form action=\"javascript:code_toggle()\"><input type=\"submit\" value=\"Click here to toggle on/off the raw code\"></form>"
      ],
      "text/plain": [
       "<IPython.core.display.HTML object>"
      ]
     },
     "execution_count": 37,
     "metadata": {},
     "output_type": "execute_result"
    }
   ],
   "source": [
    "HTML('''<script>\n",
    "code_show=true; \n",
    "function code_toggle() {\n",
    " if (code_show){\n",
    " $('div.input').hide();\n",
    " } else {\n",
    " $('div.input').show();\n",
    " }\n",
    " code_show = !code_show\n",
    "} \n",
    "$( document ).ready(code_toggle);\n",
    "</script>\n",
    "<form action=\"javascript:code_toggle()\"><input type=\"submit\" value=\"Click here to toggle on/off the raw code\"></form>''')"
   ]
  },
  {
   "cell_type": "markdown",
   "metadata": {},
   "source": [
    "---\n",
    "\n",
    "\n",
    "## Game time!\n",
    "\n",
    "\n",
    "#### Toggle buttons to generate questions & pairs:"
   ]
  },
  {
   "cell_type": "code",
   "execution_count": 38,
   "metadata": {
    "scrolled": true
   },
   "outputs": [
    {
     "data": {
      "application/vnd.jupyter.widget-view+json": {
       "model_id": "ee18d44bf83d4876b6101b9dda40fc93",
       "version_major": 2,
       "version_minor": 0
      },
      "text/plain": [
       "Button(button_style='info', description='New Question!', icon='arrow-right', style=ButtonStyle(), tooltip='New…"
      ]
     },
     "metadata": {},
     "output_type": "display_data"
    },
    {
     "data": {
      "application/vnd.jupyter.widget-view+json": {
       "model_id": "f55aab431ae74ee68220964c50d12fa8",
       "version_major": 2,
       "version_minor": 0
      },
      "text/plain": [
       "Output(layout=Layout(border='1.5px dashed gray'))"
      ]
     },
     "metadata": {},
     "output_type": "display_data"
    }
   ],
   "source": [
    "button = widgets.Button(\n",
    "    description='New Question!',\n",
    "    disabled=False,\n",
    "    button_style='info', # 'success', 'info', 'warning', 'danger' or ''\n",
    "    tooltip='New Question!',\n",
    "    icon='arrow-right' # (FontAwesome names without the `fa-` prefix)\n",
    ")\n",
    "output = widgets.Output(layout={'border': '1.5px dashed gray'})\n",
    "display(button, output)\n",
    "\n",
    "def sub_func(data, answered_list):\n",
    "    if len(answered_list) == 0:\n",
    "        output2.clear_output()\n",
    "    if len(answered_list) < (len(data)-1):\n",
    "        data = data[np.array([False if q in answered_qs else True for q in data.questions])]\n",
    "        curr_q = data.sample(n=1).iloc[0][0]\n",
    "        answered_qs.append(curr_q)\n",
    "        \n",
    "        display(HTML('<b><p style=\"color:#306998; font-size: 18px; text-align:center;\"> >>> QUESTION:  <<< </p></b>'))\n",
    "        display(HTML('<b><p style=\"color:#306998; font-size: 18px; text-align:center;\"> '+ curr_q + ' </p></b>'))\n",
    "    elif len(answered_list) == (len(data)-1):\n",
    "        data = data[np.array([False if q in answered_qs else True for q in data.questions])]\n",
    "        curr_q = data.sample(n=1).iloc[0][0]\n",
    "        answered_qs.append(curr_q)\n",
    "        display(HTML('<b><p style=\"color:#306998; font-size: 18px; text-align:center;\"> >>> LAST QUESTION:  <<< </p></b>'))\n",
    "        display(HTML('<b><p style=\"color:#306998; font-size: 18px; text-align:center;\"> '+ curr_q + '  </p></b>'))\n",
    "    else:\n",
    "        return display(HTML('<b><p style=\"color:#306998; font-size: 18px; text-align:center;\"> Thanks for playing! </p></b>'))\n",
    "\n",
    "def on_button_clicked(b):\n",
    "    output.clear_output()\n",
    "    output3.clear_output()\n",
    "    with output:\n",
    "        sub_func(qs, answered_qs)\n",
    "\n",
    "button.on_click(on_button_clicked)"
   ]
  },
  {
   "cell_type": "code",
   "execution_count": 39,
   "metadata": {
    "scrolled": false
   },
   "outputs": [
    {
     "data": {
      "application/vnd.jupyter.widget-view+json": {
       "model_id": "f8a9c1e3b0b34912be21ea1ee4c88c7f",
       "version_major": 2,
       "version_minor": 0
      },
      "text/plain": [
       "Button(button_style='info', description='New Pair!', icon='arrow-right', style=ButtonStyle(), tooltip='New Pai…"
      ]
     },
     "metadata": {},
     "output_type": "display_data"
    },
    {
     "data": {
      "application/vnd.jupyter.widget-view+json": {
       "model_id": "0c2aa8c990844b498ed5fde250730baf",
       "version_major": 2,
       "version_minor": 0
      },
      "text/plain": [
       "Output(layout=Layout(border='1.5px dashed gray'))"
      ]
     },
     "metadata": {},
     "output_type": "display_data"
    }
   ],
   "source": [
    "buttonPlayer = widgets.Button(\n",
    "    description='New Pair!',\n",
    "    disabled=False,\n",
    "    button_style='info', # 'success', 'info', 'warning', 'danger' or ''\n",
    "    tooltip='New Pair!',\n",
    "    icon='arrow-right' # (FontAwesome names without the `fa-` prefix)\n",
    ")\n",
    "outputPlayer = widgets.Output(layout={'border': '1.5px dashed gray'})\n",
    "display(buttonPlayer, outputPlayer)\n",
    "\n",
    "def sub_func2(data):\n",
    "#     if len(prevPlayer_list) == 0:\n",
    "#         outputPlayer2.clear_outputPlayer()\n",
    "    sampdf = data.sample(n=2)\n",
    "    player1, player2 = sampdf.players.iloc[0], sampdf.players.iloc[1]\n",
    "    p1_widget = widgets.HTML(\n",
    "        value='<b><p style=\"color:#306998; font-size: 18px; text-align:center;\"> ~ '+ player1 + ' ~ </p></b>',\n",
    "        placeholder='',\n",
    "        description='',)\n",
    "    p2_widget = widgets.HTML(\n",
    "        value='<b><p style=\"color:#306998; font-size: 18px; text-align:center;\"> ~ '+ player2 + ' ~ </p></b>',\n",
    "        placeholder='',\n",
    "        description='',)\n",
    "    accordion1 = widgets.Accordion(children=[p1_widget], selected_index=None)\n",
    "    accordion2 = widgets.Accordion(children=[p2_widget], selected_index=None)\n",
    "    accordion1.set_title(0, 'Show Player 1')\n",
    "    accordion2.set_title(0, 'Show Player 2')\n",
    "    display(HTML('<b><p style=\"color:#306998; font-size: 18px; text-align:center;\"> RESPONDING PAIR: </p></b>'))\n",
    "    display(accordion1)\n",
    "    display(HTML('<b><p style=\"color:#306998; font-size: 18px; text-align:center;\"> AND </p></b>'))\n",
    "    display(accordion2)\n",
    "\n",
    "\n",
    "\n",
    "def on_buttonPlayer_clicked(b):\n",
    "    outputPlayer.clear_output()\n",
    "    with outputPlayer:\n",
    "        sub_func2(ps)\n",
    "\n",
    "buttonPlayer.on_click(on_buttonPlayer_clicked)"
   ]
  },
  {
   "cell_type": "code",
   "execution_count": 40,
   "metadata": {},
   "outputs": [],
   "source": [
    "button2 = widgets.Button(\n",
    "    description='Show Answered',\n",
    "    disabled=False,\n",
    "    button_style='success',\n",
    "    tooltip='Show Answered',\n",
    "    icon='check-circle'\n",
    ")\n",
    "output2 = widgets.Output()\n",
    "\n",
    "def print_answered():\n",
    "    if len(answered_qs) == 0:\n",
    "        display(HTML('<b><p style=\"color:#444140\"> No question has been answered yet. </p></b>'))\n",
    "    else:\n",
    "        for ans in answered_qs:\n",
    "            display(HTML('<b><p style=\"color:#0A6E2B\">'+ ans + '</p></b>'))\n",
    "    \n",
    "\n",
    "def on_button_clicked2(b):\n",
    "    output2.clear_output()\n",
    "    with output2:\n",
    "        print_answered()\n",
    "\n",
    "button2.on_click(on_button_clicked2)"
   ]
  },
  {
   "cell_type": "code",
   "execution_count": 41,
   "metadata": {
    "scrolled": true
   },
   "outputs": [
    {
     "data": {
      "application/vnd.jupyter.widget-view+json": {
       "model_id": "c23aeaa35457454daba45771ee227f7b",
       "version_major": 2,
       "version_minor": 0
      },
      "text/plain": [
       "VBox(children=(Button(button_style='success', description='Show Answered', icon='check-circle', style=ButtonSt…"
      ]
     },
     "metadata": {},
     "output_type": "display_data"
    },
    {
     "data": {
      "application/vnd.jupyter.widget-view+json": {
       "model_id": "3f7f3520822047cca774812e05dbacf5",
       "version_major": 2,
       "version_minor": 0
      },
      "text/plain": [
       "Output()"
      ]
     },
     "metadata": {},
     "output_type": "display_data"
    }
   ],
   "source": [
    "button2hide = widgets.Button(\n",
    "    description='Hide Answered',\n",
    "    disabled=False,\n",
    "    button_style='',\n",
    "    tooltip='Hide Answered',\n",
    "    icon='check-circle'\n",
    ")\n",
    "\n",
    "def hide_answers():\n",
    "    output2.clear_output()\n",
    "\n",
    "def on_button_clicked2hide(b):\n",
    "        hide_answers()\n",
    "\n",
    "button2hide.on_click(on_button_clicked2hide)\n",
    "\n",
    "hbox = widgets.VBox([button2, button2hide])\n",
    "display(hbox, output2)"
   ]
  },
  {
   "cell_type": "code",
   "execution_count": 42,
   "metadata": {},
   "outputs": [
    {
     "data": {
      "application/vnd.jupyter.widget-view+json": {
       "model_id": "58242e0cd64941bc9d7f0c53615a5bbc",
       "version_major": 2,
       "version_minor": 0
      },
      "text/plain": [
       "Button(button_style='warning', description='Reset Game', icon='retweet', style=ButtonStyle(), tooltip='Reset G…"
      ]
     },
     "metadata": {},
     "output_type": "display_data"
    },
    {
     "data": {
      "application/vnd.jupyter.widget-view+json": {
       "model_id": "4697e14c040246a1aebea38aa5b6482a",
       "version_major": 2,
       "version_minor": 0
      },
      "text/plain": [
       "Output()"
      ]
     },
     "metadata": {},
     "output_type": "display_data"
    }
   ],
   "source": [
    "answered_qs = []\n",
    "\n",
    "button3 = widgets.Button(\n",
    "    description='Reset Game',\n",
    "    disabled=False,\n",
    "    button_style='warning', # 'success', 'info', 'warning', 'danger' or ''\n",
    "    tooltip='Reset Game!',\n",
    "    icon='retweet' # (FontAwesome names without the `fa-` prefix)\n",
    ")\n",
    "output3 = widgets.Output()\n",
    "display(button3, output3)\n",
    "\n",
    "def on_button_clicked3(b):\n",
    "    output.clear_output()\n",
    "    output2.clear_output()\n",
    "    output3.clear_output()\n",
    "    outputPlayer.clear_output()\n",
    "    global answered_qs\n",
    "    global prev_ps\n",
    "    answered_qs = []\n",
    "    prev_ps = []\n",
    "    with output3:\n",
    "        display(HTML('<b><p style=\"color:#F89C0E; font-size: 18px\"> Game has been reset. </p></b>'))\n",
    "\n",
    "button3.on_click(on_button_clicked3)"
   ]
  },
  {
   "cell_type": "code",
   "execution_count": null,
   "metadata": {},
   "outputs": [],
   "source": []
  }
 ],
 "metadata": {
  "kernelspec": {
   "display_name": "Python 3",
   "language": "python",
   "name": "python3"
  },
  "language_info": {
   "codemirror_mode": {
    "name": "ipython",
    "version": 3
   },
   "file_extension": ".py",
   "mimetype": "text/x-python",
   "name": "python",
   "nbconvert_exporter": "python",
   "pygments_lexer": "ipython3",
   "version": "3.6.5"
  }
 },
 "nbformat": 4,
 "nbformat_minor": 2
}
